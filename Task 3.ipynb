{
 "cells": [
  {
   "cell_type": "markdown",
   "metadata": {},
   "source": [
    "# Task 3 Prompt Engineering for Large Language Models (LLMs) [4 marks]\n",
    "Questions\n",
    "\n",
    "1. Demonstrate how to use Zero-Shot Learning and Few-Shot Learning to classify human activities based on the featurized accelerometer data. Qualitatively demonstrate the performance of Few-Shot Learning with Zero-Shot Learning. Which method performs better? Why?  **[1 marks]**\n",
    "2. Quantitatively compare the accuracy of Few-Shot Learning with Decision Trees (You may use a subset of the test set if you encounter rate-limiting issues). Which method performs better? Why? **[1 marks]**\n",
    "3. What are the limitations of Zero-Shot Learning and Few-Shot Learning in the context of classifying human activities based on featurized accelerometer data? **[1 marks]**\n",
    "4. What does the model classify when given input from an entirely new activity that it hasn't seen before? **[0.5 mark]**\n",
    "5. Test the model with random data (ensuring the data has the same dimensions and range as the previous input) and report the results. **[0.5 mark]**"
   ]
  },
  {
   "cell_type": "code",
   "execution_count": 1,
   "metadata": {},
   "outputs": [],
   "source": [
    "import numpy as np\n",
    "import pandas as pd\n",
    "from langchain_groq import ChatGroq\n",
    "import os\n",
    "from sklearn.tree import DecisionTreeClassifier\n",
    "import matplotlib.pyplot as plt \n",
    "from sklearn.model_selection import train_test_split\n",
    "from sklearn.metrics import accuracy_score, classification_report, confusion_matrix\n",
    "import seaborn as sns\n"
   ]
  },
  {
   "cell_type": "code",
   "execution_count": 2,
   "metadata": {},
   "outputs": [],
   "source": [
    "from dotenv import load_dotenv\n",
    "\n",
    "load_dotenv()\n",
    "\n",
    "Groq_Token = os.getenv('api_key')\n",
    "groq_models = {\"llama3-70b\": \"llama3-70b-8192\", \"mixtral\": \"mixtral-8x7b-32768\", \"gemma-7b\": \"gemma-7b-it\",\"llama3.1-70b\":\"llama-3.1-70b-versatile\",\"llama3-8b\":\"llama3-8b-8192\",\"llama3.1-8b\":\"llama-3.1-8b-instant\",\"gemma-9b\":\"gemma2-9b-it\"}\n",
    "model_name = \"llama3.1-70b\"\n",
    "llm = ChatGroq(model=groq_models[model_name], api_key=Groq_Token, temperature=0)"
   ]
  },
  {
   "cell_type": "code",
   "execution_count": 34,
   "metadata": {},
   "outputs": [],
   "source": [
    "# Testing data \n",
    "\n",
    "file1_laying =  pd.read_csv(\"Combined/Test/LAYING/Subject_2.csv\")\n",
    "file2_walking = pd.read_csv(\"Combined/Test/WALKING/Subject_2.csv\")\n",
    "file3_sitting=  pd.read_csv(\"Combined/Test/SITTING/Subject_2.csv\")\n",
    "file4_standing=  pd.read_csv(\"Combined/Test/STANDING/Subject_2.csv\")\n",
    "file5_downstairs=  pd.read_csv(\"Combined/Test/WALKING_DOWNSTAIRS/Subject_2.csv\")\n",
    "file6_upstairs=  pd.read_csv(\"Combined/Test/WALKING_UPSTAIRS/Subject_2.csv\")\n",
    "\n",
    "\n",
    "df1 = pd.DataFrame(file1_laying).head(100)\n",
    "df2 = pd.DataFrame(file2_walking).head(100)\n",
    "df3 = pd.DataFrame(file3_sitting).head(100)\n",
    "df4 = pd.DataFrame(file4_standing).head(100)\n",
    "df5 = pd.DataFrame(file5_downstairs).head(100)\n",
    "df6 = pd.DataFrame(file6_upstairs).head(100)\n"
   ]
  },
  {
   "cell_type": "code",
   "execution_count": 36,
   "metadata": {},
   "outputs": [],
   "source": [
    "# Training Data for few shot prompt examples\n",
    "\n",
    "laying_train = pd.read_csv(\"Combined/Train/LAYING/Subject_1.csv\")\n",
    "sitting_train = pd.read_csv(\"Combined/Train/SITTING/Subject_1.csv\")\n",
    "standing_train = pd.read_csv(\"Combined/Train/STANDING/Subject_1.csv\")\n",
    "walking_train = pd.read_csv(\"Combined/Train/WALKING/Subject_1.csv\")\n",
    "downstairs_train = pd.read_csv(\"Combined/Train/WALKING_DOWNSTAIRS/Subject_1.csv\")\n",
    "upstairs_train = pd.read_csv(\"Combined/Train/WALKING_UPSTAIRS/Subject_1.csv\")\n",
    "\n",
    "laying_df = pd.DataFrame(laying_train).head(100)\n",
    "sitting_df = pd.DataFrame(sitting_train).head(100)\n",
    "standing_df = pd.DataFrame(standing_train).head(100)\n",
    "walking_df = pd.DataFrame(walking_train).head(100)\n",
    "downstairs_df = pd.DataFrame(downstairs_train).head(100)\n",
    "upstairs_df = pd.DataFrame(upstairs_train).head(100)\n",
    "\n",
    "\n"
   ]
  },
  {
   "cell_type": "markdown",
   "metadata": {},
   "source": [
    "# Q1. Demonstrate how to use Zero-Shot Learning and Few-Shot Learning to classify human activities based on the featurized accelerometer data. Qualitatively demonstrate the performance of Few-Shot Learning with Zero-Shot Learning. Which method performs better? Why? "
   ]
  },
  {
   "cell_type": "code",
   "execution_count": 20,
   "metadata": {},
   "outputs": [
    {
     "name": "stdout",
     "output_type": "stream",
     "text": [
      "Based on the provided accelerometer data, I will classify each activity as follows:\n",
      "\n",
      "**Data 1:**\n",
      "The accelerometer data shows a relatively stable pattern with small variations in the x, y, and z axes. This pattern is typical of a person who is standing still. The values of accx, accy, and accz are relatively constant, indicating minimal movement.\n",
      "\n",
      "**Classification:** Standing\n",
      "\n",
      "**Data 2:**\n",
      "The accelerometer data shows a significant variation in the x-axis, with values ranging from 0.7 to 1.1. This pattern is typical of a person who is walking. The values of accy and accz are relatively stable, indicating that the person is moving in a forward direction.\n",
      "\n",
      "**Classification:** Walking\n",
      "\n",
      "**Data 3:**\n",
      "The accelerometer data shows a relatively stable pattern with small variations in the x, y, and z axes. This pattern is typical of a person who is sitting still. The values of accx, accy, and accz are relatively constant, indicating minimal movement.\n",
      "\n",
      "**Classification:** Sitting\n",
      "\n",
      "**Data 4:**\n",
      "The accelerometer data shows a relatively stable pattern with small variations in the x, y, and z axes. This pattern is typical of a person who is standing still. However, the values of accx, accy, and accz are slightly different from those in Data 1, indicating that the person may be standing in a slightly different position.\n",
      "\n",
      "**Classification:** Standing\n",
      "\n",
      "**Data 5:**\n",
      "The accelerometer data shows a significant variation in the x-axis, with values ranging from 0.8 to 1.1. This pattern is typical of a person who is walking upstairs. The values of accy and accz are relatively stable, indicating that the person is moving in a forward and upward direction.\n",
      "\n",
      "**Classification:** Walking Upstairs\n",
      "\n",
      "**Data 6:**\n",
      "The accelerometer data shows a significant variation in the x-axis, with values ranging from 0.6 to 0.8. This pattern is typical of a person who is walking downstairs. The values of accy and accz are relatively stable, indicating that the person is moving in a forward and downward direction.\n",
      "\n",
      "**Classification:** Walking Downstairs\n"
     ]
    }
   ],
   "source": [
    "# Zero shot demonstration\n",
    "\n",
    "zero_shot_prompt = f\"\"\"\n",
    "* You are a human activity recognition model.\n",
    "* Your task is to classify the following accelerometer data into one of the six activities: Walking, Standing, Sittting, Laying, Walking Upstairs, Walking Downstairs. \n",
    "* Provide the sentiment label and, if necessary, a brief explanation of your reasoning.\n",
    "Here is the accelerometer data:\n",
    "{df1}, {df2}, {df3}, {df4}, {df5}, {df6}\n",
    "\n",
    "Please classify the activity for these six accelerometer data.\n",
    "\"\"\"\n",
    "\n",
    "zero_shot_answer = llm.invoke(zero_shot_prompt)\n",
    "print(zero_shot_answer.content)"
   ]
  },
  {
   "cell_type": "code",
   "execution_count": 21,
   "metadata": {},
   "outputs": [
    {
     "name": "stdout",
     "output_type": "stream",
     "text": [
      "Based on the provided accelerometer data, I will classify each dataset into one of the six activities: Walking, Standing, Sitting, Laying, Walking Upstairs, Walking Downstairs.\n",
      "\n",
      "**Dataset 1:**\n",
      "        accx      accy      accz\n",
      "0  -0.185673  0.737995  0.663749\n",
      "1  -0.181578  0.730275  0.661433\n",
      "2  -0.177545  0.726232  0.664359\n",
      "3  -0.177920  0.724708  0.672195\n",
      "4  -0.174591  0.717580  0.681756\n",
      "..       ...       ...       ...\n",
      "95 -0.165489  0.729584  0.671664\n",
      "96 -0.174858  0.732787  0.674144\n",
      "97 -0.175200  0.732583  0.673061\n",
      "98 -0.173067  0.731293  0.673188\n",
      "99 -0.173211  0.733657  0.671640\n",
      "\n",
      "**Classification:** Laying\n",
      "**Reasoning:** The values of accx, accy, and accz are relatively stable and close to the values in the provided Laying dataset. The accy values are particularly close to the Laying dataset, which suggests that the person is in a horizontal position.\n",
      "\n",
      "**Dataset 2:**\n",
      "        accx      accy      accz\n",
      "0   1.153546 -0.249716 -0.084946\n",
      "1   1.069664 -0.274466 -0.079013\n",
      "2   0.898796 -0.274523 -0.080603\n",
      "3   0.769104 -0.330416 -0.011236\n",
      "4   0.719512 -0.336834  0.031772\n",
      "..       ...       ...       ...\n",
      "95  0.997593 -0.227130  0.034155\n",
      "96  1.037850 -0.212062  0.005676\n",
      "97  1.039070 -0.170401  0.011629\n",
      "98  1.082784 -0.153250  0.037235\n",
      "99  1.155402 -0.197195  0.080152\n",
      "\n",
      "**Classification:** Walking\n",
      "**Reasoning:** The values of accx, accy, and accz are dynamic and vary significantly, which is characteristic of walking. The accx values are particularly high, indicating a significant amount of movement in the x-axis.\n",
      "\n",
      "**Dataset 3:**\n",
      "        accx      accy      accz\n",
      "0   1.011120 -0.105541  0.162614\n",
      "1   1.012641 -0.100406  0.165574\n",
      "2   1.012201 -0.101511  0.164575\n",
      "3   1.012584 -0.108118  0.158297\n",
      "4   1.010454 -0.109761  0.152989\n",
      "..       ...       ...       ...\n",
      "95  1.014135 -0.108361  0.156337\n",
      "96  1.016176 -0.107772  0.154605\n",
      "97  1.015298 -0.105736  0.151790\n",
      "98  1.013986 -0.103275  0.149291\n",
      "99  1.013811 -0.104368  0.149738\n",
      "\n",
      "**Classification:** Standing\n",
      "**Reasoning:** The values of accx, accy, and accz are relatively stable and close to the values in the provided Standing dataset. The accx values are particularly close to the Standing dataset, which suggests that the person is in a vertical position.\n",
      "\n",
      "**Dataset 4:**\n",
      "        accx      accy      accz\n",
      "0   0.999192 -0.264935  0.125616\n",
      "1   0.994679 -0.253214  0.125625\n",
      "2   0.993552 -0.256589  0.116381\n",
      "3   0.998674 -0.272952  0.107567\n",
      "4   1.005490 -0.275976  0.115386\n",
      "..       ...       ...       ...\n",
      "95  0.993179 -0.266953  0.119328\n",
      "96  0.993940 -0.268744  0.119537\n",
      "97  0.997477 -0.268353  0.122430\n",
      "98  1.000866 -0.268568  0.120289\n",
      "99  0.997851 -0.269389  0.121756\n",
      "\n",
      "**Classification:** Walking\n",
      "**Reasoning:** The values of accx, accy, and accz are dynamic and vary significantly, which is characteristic of walking. The accx values are particularly close to the Walking dataset, which suggests that the person is walking.\n",
      "\n",
      "**Dataset 5:**\n",
      "        accx      accy      accz\n",
      "0   1.085438 -0.727962 -0.413233\n",
      "1   1.026870 -0.652232 -0.362043\n",
      "2   0.905540 -0.541101 -0.243791\n",
      "3   0.869937 -0.350131 -0.231581\n",
      "4   0.920564 -0.225315 -0.187774\n",
      "..       ...       ...       ...\n",
      "95  0.828419 -0.640732 -0.367033\n",
      "96  0.863365 -0.592454 -0.310596\n",
      "97  0.780277 -0.538628 -0.224484\n",
      "98  0.843177 -0.455069 -0.189065\n",
      "99  0.821335 -0.386411 -0.215847\n",
      "\n",
      "**Classification:** Walking Downstairs\n",
      "**Reasoning:** The values of accx, accy, and accz are dynamic and vary significantly, which is characteristic of walking. The accy values are particularly negative, indicating a downward movement, which is consistent with walking downstairs.\n",
      "\n",
      "**Dataset 6:**\n",
      "        accx      accy      accz\n",
      "0   0.793270 -0.267093 -0.012385\n",
      "1   0.755164 -0.283772 -0.002888\n",
      "2   0.738132 -0.279375 -0.033590\n",
      "3   0.737663 -0.263256 -0.052085\n",
      "4   0.732771 -0.268207 -0.071190\n",
      "..       ...       ...       ...\n",
      "95  0.755939 -0.288239  0.140769\n",
      "96  0.815518 -0.260007  0.115046\n",
      "97  0.769322 -0.233945  0.097993\n",
      "98  0.746595 -0.213220  0.094260\n",
      "99  0.692161 -0.184782  0.092342\n",
      "\n",
      "**Classification:** Walking Upstairs\n",
      "**Reasoning:** The values of accx, accy, and accz are dynamic and vary significantly, which is characteristic of walking. The accy values are particularly negative, but not as negative as walking downstairs, indicating an upward movement, which is consistent with walking upstairs.\n"
     ]
    }
   ],
   "source": [
    "# Few Shot demonstration\n",
    "few_shot_prompt = f\"\"\" \n",
    "* You are a human activity recognition model.\n",
    "* Your task is to classify the following accelerometer data into one of the six activities: Walking, Standing, Sittting, Laying, Walking Upstairs, Walking Downstairs. \n",
    "* Provide the sentiment label and, if necessary, a brief explanation of your reasoning. \n",
    "\n",
    "Here are some examples:\n",
    "1.Dataset of laying: {laying_df}\n",
    "2.Dataset of sitting: {sitting_df}\n",
    "3.Dataset of standing: {standing_df}\n",
    "4.Dataset of walking: {walking_df}\n",
    "5.Dataset of walking downstairs: {downstairs_df}\n",
    "6.Dataset of walking upstairs: {upstairs_df}\n",
    "\n",
    "Here is the accelerometer data:\n",
    "{df1}, \n",
    "{df2},\n",
    "{df3},\n",
    "{df4},\n",
    "{df5},\n",
    "{df6}\n",
    "\n",
    "Please classify the activity for these six accelerometer data using the dataset of sample activites.\n",
    "\"\"\"\n",
    "few_shot_answer = llm.invoke(few_shot_prompt)\n",
    "print(few_shot_answer.content)\n"
   ]
  },
  {
   "cell_type": "markdown",
   "metadata": {},
   "source": [
    "The Few shot learning perform well than zero shot learning because in zero shot learning there is no train dataset so that the model can learn but in few shot learning we are giving few examples so that model can relate the test data with it and give optimal output. "
   ]
  },
  {
   "cell_type": "markdown",
   "metadata": {},
   "source": [
    "Q2. Quantitatively compare the accuracy of Few-Shot Learning with Decision Trees (You may use a subset of the test set if you encounter rate-limiting issues). Which method performs better? Why?"
   ]
  },
  {
   "cell_type": "code",
   "execution_count": 26,
   "metadata": {},
   "outputs": [
    {
     "name": "stdout",
     "output_type": "stream",
     "text": [
      "Accuracy: 66.67%\n"
     ]
    }
   ],
   "source": [
    "# Accuracy of few shot\n",
    "\n",
    "true_labels = [\"Laying\", \"Walking\",\"Sitting\", \"Standing\" , \"Walking Downstairs\", \"Walking Upstairs\"]\n",
    "model_predictions = [\"Laying\", \"Walking\", \"Standing\", \"Walking\", \"Walking Downstairs\", \"Walking Upstairs\"]\n",
    "\n",
    "accuracy = accuracy_score(true_labels, model_predictions)\n",
    "print(f\"Accuracy: {accuracy * 100:.2f}%\")\n"
   ]
  },
  {
   "cell_type": "code",
   "execution_count": 30,
   "metadata": {},
   "outputs": [
    {
     "name": "stdout",
     "output_type": "stream",
     "text": [
      "Accuracy: 80.83%\n",
      "Classification Report:\n",
      "                    precision    recall  f1-score   support\n",
      "\n",
      "            Laying       1.00      1.00      1.00        23\n",
      "           Sitting       1.00      1.00      1.00        20\n",
      "          Standing       1.00      1.00      1.00        19\n",
      "           Walking       0.50      0.47      0.48        17\n",
      "Walking Downstairs       0.47      0.47      0.47        17\n",
      "  Walking Upstairs       0.76      0.79      0.78        24\n",
      "\n",
      "          accuracy                           0.81       120\n",
      "         macro avg       0.79      0.79      0.79       120\n",
      "      weighted avg       0.81      0.81      0.81       120\n",
      "\n",
      "Confusion Matrix:\n"
     ]
    },
    {
     "data": {
      "image/png": "[encoded data removed]",
      "text/plain": [
       "<Figure size 640x480 with 2 Axes>"
      ]
     },
     "metadata": {},
     "output_type": "display_data"
    }
   ],
   "source": [
    "# Decision Tree Classifier \n",
    "\n",
    "laying_df = pd.DataFrame(file1_laying).head(100)\n",
    "walking_df = pd.DataFrame(file2_walking).head(100)\n",
    "sitting_df = pd.DataFrame(file3_sitting).head(100)\n",
    "standing_df = pd.DataFrame(file4_standing).head(100)\n",
    "downstairs_df = pd.DataFrame(file5_downstairs).head(100)\n",
    "upstairs_df = pd.DataFrame(file6_upstairs).head(100)\n",
    "\n",
    "\n",
    "laying_df['label'] = 'Laying'\n",
    "sitting_df['label'] = 'Sitting'\n",
    "standing_df['label'] = 'Standing'\n",
    "walking_df['label'] = 'Walking'\n",
    "downstairs_df['label'] = 'Walking Downstairs'\n",
    "upstairs_df['label'] = 'Walking Upstairs'\n",
    "\n",
    "\n",
    "df = pd.concat([laying_df, sitting_df, standing_df, walking_df, downstairs_df, upstairs_df], ignore_index=True)\n",
    "\n",
    "x = df.drop('label', axis=1) \n",
    "y = df['label']               \n",
    "\n",
    "X_train, X_test, y_train, y_test = train_test_split(x, y, test_size=0.2, random_state=42)\n",
    "\n",
    "clf = DecisionTreeClassifier(random_state=42)\n",
    "clf.fit(X_train, y_train)\n",
    "\n",
    "y_pred = clf.predict(X_test)\n",
    "\n",
    "accuracy = accuracy_score(y_test, y_pred)\n",
    "print(f\"Accuracy: {accuracy * 100:.2f}%\")\n",
    "\n",
    "print(\"Classification Report:\")\n",
    "print(classification_report(y_test, y_pred))\n",
    "\n",
    "# Confusion Matrix\n",
    "print(\"Confusion Matrix:\")\n",
    "conf_matrix = confusion_matrix(y_test, y_pred)\n",
    "sns.heatmap(conf_matrix,annot=True)\n",
    "plt.title(\"Confusion matrix\")\n",
    "plt.show()\n",
    "\n"
   ]
  },
  {
   "cell_type": "markdown",
   "metadata": {},
   "source": [
    " In this dataset, the accuracy of Decision Tree Classifier from sckikit learn is 80.83% where accuracy of few shot learning is 66.7%. Therefore, here decision tree is working more better than few shot learning."
   ]
  },
  {
   "cell_type": "markdown",
   "metadata": {},
   "source": [
    "# Q3: What are the limitations of Zero-Shot Learning and Few-Shot Learning in the context of classifying human activities based on featurized accelerometer data? "
   ]
  },
  {
   "cell_type": "markdown",
   "metadata": {},
   "source": [
    "Limitations of Zero Shot Learning in this activities are:\n",
    "\n",
    "    1. It's whole accuracy is fully dependent on the given prompt and how well it is designed. A poor designed prompt will not give us better accuracy in output. \n",
    "\n",
    "    2. It does not accurately specify in the activities due to small changes or similarity in different activities dataset.  \n",
    "\n",
    "    3. It feels difficulties in distinguishing between various activities, like, distinguishing between \"Running\" and \"Walking\", similarly with \"Sitting\" and \"Laying\". Because there is no significant movement in both the datasets, it is giving wrong output with respect to the acivity. \n",
    "\n",
    "\n",
    "\n",
    "Limitations of Few Shot Learning in this activities are:\n",
    "\n",
    "    1. It is depended on the quality of samples given in prompt. If the examples are not choosen well or do no have enough information it can lead to wrong output. Poor data representation can lead to inappropriate outputs\n",
    "\n",
    "    2. It typically relies on the limited number of samples which can lead to  create bias in output and may be possible that it does not capture full diversity or does not generalize well.\n",
    "\n",
    "    3. Because there is small number of samples it can lead to the overfiiting to the provided examples. It might be perform well for given examples but not with test or unseen data. \n",
    "    \n"
   ]
  },
  {
   "cell_type": "markdown",
   "metadata": {},
   "source": [
    "# Q4. What does the model classify when given input from an entirely new activity that it hasn't seen before?\n",
    "\n"
   ]
  },
  {
   "cell_type": "markdown",
   "metadata": {},
   "source": [
    "1. In Zero Shot Learning, if we given input from entirely new activity then the model will try to classify the new activity with the help of existing knowledge and any information which is available. It might be not accurate but if there is no such relation between the old activities and new activities then it might be not able to classify or recongnize it properly. \n",
    "\n",
    "2. In Few Shot learning, we provide some examples related to the new activity which helps the model to learn, recognize and classify it properly. It uses the examples to understand the pattern of features of activity. And with the help of these, it can give more accurate answers and classify it better. But also, the accuracy will depend on how well the examples are presented. "
   ]
  },
  {
   "cell_type": "markdown",
   "metadata": {},
   "source": [
    "# Q5. Test the model with random data (ensuring the data has the same dimensions and range as the previous input) and report the results."
   ]
  },
  {
   "cell_type": "code",
   "execution_count": 54,
   "metadata": {},
   "outputs": [],
   "source": [
    "def generate_random_data(rows=70):\n",
    " \n",
    "    np.random.seed(42)  \n",
    "    N = rows  \n",
    "    P = 3  \n",
    "    X = pd.DataFrame(np.random.randn(N, P), columns=['accx', 'accy', 'accz'])\n",
    "    return X\n",
    "\n",
    "\n",
    "\n",
    "random_data = {\n",
    "    \"LAYING\": generate_random_data(),\n",
    "    \"WALKING\": generate_random_data(),\n",
    "    \"SITTING\": generate_random_data(),\n",
    "    \"STANDING\": generate_random_data(),\n",
    "    \"WALKING_UPSTAIRS\": generate_random_data(),\n",
    "    \"WALKING_DOWNSTAIRS\": generate_random_data()\n",
    "}\n",
    "random_data_strings = {key: df.head(100).to_csv(index=False) for key, df in random_data.items()}\n",
    "\n"
   ]
  },
  {
   "cell_type": "code",
   "execution_count": 55,
   "metadata": {},
   "outputs": [
    {
     "name": "stdout",
     "output_type": "stream",
     "text": [
      "Based on the provided accelerometer data, I will classify the activities as follows:\n",
      "\n",
      "1. accx,accy,accz: \n",
      "The data shows a mix of movements with varying magnitudes and directions. However, the overall pattern suggests a person who is standing and occasionally moving their body or arms. The data does not indicate any significant walking or laying down patterns. Therefore, I classify this activity as **Standing**.\n",
      "\n",
      "2. accx,accy,accz: \n",
      "This data is identical to the first one, so the classification remains the same. However, to provide a different output as requested, I will analyze the data from a different perspective. Upon re-examining the data, I notice that there are some instances of higher acceleration values, which could indicate walking. However, these instances are not consistent throughout the data, and the overall pattern still suggests a person who is standing. Considering the inconsistencies, I will classify this activity as **Walking**, but with a lower confidence level.\n",
      "\n",
      "3. accx,accy,accz: \n",
      "This data is also identical to the first two. To provide a different output, I will analyze the data from another perspective. Upon re-examining the data, I notice that there are some instances of lower acceleration values, which could indicate a person who is laying down. However, these instances are not consistent throughout the data, and the overall pattern still suggests a person who is standing or walking. Considering the inconsistencies, I will classify this activity as **Laying**, but with a lower confidence level.\n",
      "\n",
      "In summary, the classifications are:\n",
      "\n",
      "1. **Standing**\n",
      "2. **Walking** (lower confidence)\n",
      "3. **Laying** (lower confidence)\n"
     ]
    }
   ],
   "source": [
    "# Zero shot \n",
    "\n",
    "zero_shot_prompt1 = f\"\"\"\n",
    "* You are a human activity recognition model.\n",
    "* Your task is to classify the following accelerometer data into one of the six activities: Walking, Standing, Laying.\n",
    "* Provide the sentiment label and, if necessary, a brief explanation of your reasoning.\n",
    "* Remember all three outputs should different.\n",
    "Here is the accelerometer data:\n",
    "1. {random_data_strings['WALKING']}\n",
    "2. {random_data_strings['STANDING']}\n",
    "3. {random_data_strings['LAYING']}\n",
    "\n",
    "Please classify the activity for these three accelerometer data.\n",
    "\"\"\"\n",
    "\n",
    "zero_shot_answer1 = llm.invoke(zero_shot_prompt1)\n",
    "print(zero_shot_answer1.content)"
   ]
  },
  {
   "cell_type": "code",
   "execution_count": 57,
   "metadata": {},
   "outputs": [
    {
     "name": "stdout",
     "output_type": "stream",
     "text": [
      "Based on the provided accelerometer data, I will classify the activities as follows:\n",
      "\n",
      "1. Dataset of laying: **Laying**\n",
      "2. Dataset of sitting: **Sitting**\n",
      "3. Dataset of walking: **Walking**\n",
      "\n",
      "And for the given accelerometer data:\n",
      "\n",
      "**Dataset 1:**\n",
      "accx,accy,accz\n",
      "0.4967141530112327,-0.13826430117118466,0.6476885381006925\n",
      "...\n",
      "**Classification: Walking**\n",
      "\n",
      "**Dataset 2:**\n",
      "accx,accy,accz\n",
      "0.4967141530112327,-0.13826430117118466,0.6476885381006925\n",
      "...\n",
      "**Classification: Walking**\n",
      "\n",
      "**Dataset 3:**\n",
      "accx,accy,accz\n",
      "0.4967141530112327,-0.13826430117118466,0.6476885381006925\n",
      "...\n",
      "**Classification: Walking**\n",
      "\n",
      "Note that the classification is based on the patterns and ranges of the accelerometer data, which are similar to the provided sample datasets. However, the accuracy of the classification may vary depending on the specific characteristics of the data and the complexity of the activities.\n"
     ]
    }
   ],
   "source": [
    "# Few Shot demonstration\n",
    "few_shot_prompt = f\"\"\" \n",
    "* You are a human activity recognition model.\n",
    "* Your task is to classify the following accelerometer data into one of the six activities: Walking, Sittting, Laying. \n",
    "* Provide only labels for the dataset. \n",
    "\n",
    "Here are some examples:\n",
    "1.Dataset of laying: {laying_df}\n",
    "2.Dataset of sitting: {sitting_df}\n",
    "3.Dataset of walking: {walking_df}\n",
    "\n",
    "Here is the accelerometer data:\n",
    "{random_data_strings['WALKING']}, \n",
    "{random_data_strings['SITTING']},\n",
    "{random_data_strings['LAYING']}\n",
    "\n",
    "Please classify the activity for these three accelerometer data using the dataset of sample activites.\n",
    "\"\"\"\n",
    "few_shot_answer = llm.invoke(few_shot_prompt)\n",
    "print(few_shot_answer.content)\n"
   ]
  }
 ],
 "metadata": {
  "kernelspec": {
   "display_name": "base",
   "language": "python",
   "name": "python3"
  },
  "language_info": {
   "codemirror_mode": {
    "name": "ipython",
    "version": 3
   },
   "file_extension": ".py",
   "mimetype": "text/x-python",
   "name": "python",
   "nbconvert_exporter": "python",
   "pygments_lexer": "ipython3",
   "version": "3.12.4"
  },
  "orig_nbformat": 4
 },
 "nbformat": 4,
 "nbformat_minor": 2
}
